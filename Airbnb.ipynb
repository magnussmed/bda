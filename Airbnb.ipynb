{
 "cells": [
  {
   "cell_type": "markdown",
   "metadata": {},
   "source": [
    "# Airbnb New York City 2019\n",
    "## Business Data Analytics, Quantitative Methods and Visualization - Exam"
   ]
  },
  {
   "cell_type": "code",
   "execution_count": 1,
   "metadata": {},
   "outputs": [],
   "source": [
    "import pandas as pd\n",
    "import seaborn as sns\n",
    "import matplotlib.pyplot as plt\n",
    "import numpy as np\n",
    "\n",
    "from sklearn.model_selection import train_test_split\n",
    "from sklearn.neighbors import KNeighborsRegressor\n",
    "from sklearn.linear_model import LinearRegression\n",
    "from sklearn.linear_model import Ridge\n",
    "from sklearn.linear_model import Lasso\n",
    "from sklearn.tree import DecisionTreeRegressor\n",
    "from sklearn.ensemble import RandomForestRegressor\n"
   ]
  },
  {
   "cell_type": "markdown",
   "metadata": {},
   "source": [
    "## Constructing the DataFrame"
   ]
  },
  {
   "cell_type": "code",
   "execution_count": 2,
   "metadata": {},
   "outputs": [
    {
     "data": {
      "text/html": [
       "<div>\n",
       "<style scoped>\n",
       "    .dataframe tbody tr th:only-of-type {\n",
       "        vertical-align: middle;\n",
       "    }\n",
       "\n",
       "    .dataframe tbody tr th {\n",
       "        vertical-align: top;\n",
       "    }\n",
       "\n",
       "    .dataframe thead th {\n",
       "        text-align: right;\n",
       "    }\n",
       "</style>\n",
       "<table border=\"1\" class=\"dataframe\">\n",
       "  <thead>\n",
       "    <tr style=\"text-align: right;\">\n",
       "      <th></th>\n",
       "      <th>id</th>\n",
       "      <th>name</th>\n",
       "      <th>host_id</th>\n",
       "      <th>host_name</th>\n",
       "      <th>neighbourhood_group</th>\n",
       "      <th>neighbourhood</th>\n",
       "      <th>latitude</th>\n",
       "      <th>longitude</th>\n",
       "      <th>room_type</th>\n",
       "      <th>price</th>\n",
       "      <th>minimum_nights</th>\n",
       "      <th>number_of_reviews</th>\n",
       "      <th>last_review</th>\n",
       "      <th>reviews_per_month</th>\n",
       "      <th>calculated_host_listings_count</th>\n",
       "      <th>availability_365</th>\n",
       "    </tr>\n",
       "  </thead>\n",
       "  <tbody>\n",
       "    <tr>\n",
       "      <th>0</th>\n",
       "      <td>2539</td>\n",
       "      <td>Clean &amp; quiet apt home by the park</td>\n",
       "      <td>2787</td>\n",
       "      <td>John</td>\n",
       "      <td>Brooklyn</td>\n",
       "      <td>Kensington</td>\n",
       "      <td>40.64749</td>\n",
       "      <td>-73.97237</td>\n",
       "      <td>Private room</td>\n",
       "      <td>149</td>\n",
       "      <td>1</td>\n",
       "      <td>9</td>\n",
       "      <td>2018-10-19</td>\n",
       "      <td>0.21</td>\n",
       "      <td>6</td>\n",
       "      <td>365</td>\n",
       "    </tr>\n",
       "    <tr>\n",
       "      <th>1</th>\n",
       "      <td>2595</td>\n",
       "      <td>Skylit Midtown Castle</td>\n",
       "      <td>2845</td>\n",
       "      <td>Jennifer</td>\n",
       "      <td>Manhattan</td>\n",
       "      <td>Midtown</td>\n",
       "      <td>40.75362</td>\n",
       "      <td>-73.98377</td>\n",
       "      <td>Entire home/apt</td>\n",
       "      <td>225</td>\n",
       "      <td>1</td>\n",
       "      <td>45</td>\n",
       "      <td>2019-05-21</td>\n",
       "      <td>0.38</td>\n",
       "      <td>2</td>\n",
       "      <td>355</td>\n",
       "    </tr>\n",
       "    <tr>\n",
       "      <th>2</th>\n",
       "      <td>3647</td>\n",
       "      <td>THE VILLAGE OF HARLEM....NEW YORK !</td>\n",
       "      <td>4632</td>\n",
       "      <td>Elisabeth</td>\n",
       "      <td>Manhattan</td>\n",
       "      <td>Harlem</td>\n",
       "      <td>40.80902</td>\n",
       "      <td>-73.94190</td>\n",
       "      <td>Private room</td>\n",
       "      <td>150</td>\n",
       "      <td>3</td>\n",
       "      <td>0</td>\n",
       "      <td>NaN</td>\n",
       "      <td>NaN</td>\n",
       "      <td>1</td>\n",
       "      <td>365</td>\n",
       "    </tr>\n",
       "    <tr>\n",
       "      <th>3</th>\n",
       "      <td>3831</td>\n",
       "      <td>Cozy Entire Floor of Brownstone</td>\n",
       "      <td>4869</td>\n",
       "      <td>LisaRoxanne</td>\n",
       "      <td>Brooklyn</td>\n",
       "      <td>Clinton Hill</td>\n",
       "      <td>40.68514</td>\n",
       "      <td>-73.95976</td>\n",
       "      <td>Entire home/apt</td>\n",
       "      <td>89</td>\n",
       "      <td>1</td>\n",
       "      <td>270</td>\n",
       "      <td>2019-07-05</td>\n",
       "      <td>4.64</td>\n",
       "      <td>1</td>\n",
       "      <td>194</td>\n",
       "    </tr>\n",
       "    <tr>\n",
       "      <th>4</th>\n",
       "      <td>5022</td>\n",
       "      <td>Entire Apt: Spacious Studio/Loft by central park</td>\n",
       "      <td>7192</td>\n",
       "      <td>Laura</td>\n",
       "      <td>Manhattan</td>\n",
       "      <td>East Harlem</td>\n",
       "      <td>40.79851</td>\n",
       "      <td>-73.94399</td>\n",
       "      <td>Entire home/apt</td>\n",
       "      <td>80</td>\n",
       "      <td>10</td>\n",
       "      <td>9</td>\n",
       "      <td>2018-11-19</td>\n",
       "      <td>0.10</td>\n",
       "      <td>1</td>\n",
       "      <td>0</td>\n",
       "    </tr>\n",
       "  </tbody>\n",
       "</table>\n",
       "</div>"
      ],
      "text/plain": [
       "     id                                              name  host_id  \\\n",
       "0  2539                Clean & quiet apt home by the park     2787   \n",
       "1  2595                             Skylit Midtown Castle     2845   \n",
       "2  3647               THE VILLAGE OF HARLEM....NEW YORK !     4632   \n",
       "3  3831                   Cozy Entire Floor of Brownstone     4869   \n",
       "4  5022  Entire Apt: Spacious Studio/Loft by central park     7192   \n",
       "\n",
       "     host_name neighbourhood_group neighbourhood  latitude  longitude  \\\n",
       "0         John            Brooklyn    Kensington  40.64749  -73.97237   \n",
       "1     Jennifer           Manhattan       Midtown  40.75362  -73.98377   \n",
       "2    Elisabeth           Manhattan        Harlem  40.80902  -73.94190   \n",
       "3  LisaRoxanne            Brooklyn  Clinton Hill  40.68514  -73.95976   \n",
       "4        Laura           Manhattan   East Harlem  40.79851  -73.94399   \n",
       "\n",
       "         room_type  price  minimum_nights  number_of_reviews last_review  \\\n",
       "0     Private room    149               1                  9  2018-10-19   \n",
       "1  Entire home/apt    225               1                 45  2019-05-21   \n",
       "2     Private room    150               3                  0         NaN   \n",
       "3  Entire home/apt     89               1                270  2019-07-05   \n",
       "4  Entire home/apt     80              10                  9  2018-11-19   \n",
       "\n",
       "   reviews_per_month  calculated_host_listings_count  availability_365  \n",
       "0               0.21                               6               365  \n",
       "1               0.38                               2               355  \n",
       "2                NaN                               1               365  \n",
       "3               4.64                               1               194  \n",
       "4               0.10                               1                 0  "
      ]
     },
     "execution_count": 2,
     "metadata": {},
     "output_type": "execute_result"
    }
   ],
   "source": [
    "df = pd.read_csv( \"AB_NYC_2019.csv\" )\n",
    "df.head()"
   ]
  },
  {
   "cell_type": "code",
   "execution_count": 3,
   "metadata": {},
   "outputs": [
    {
     "name": "stdout",
     "output_type": "stream",
     "text": [
      "<class 'pandas.core.frame.DataFrame'>\n",
      "RangeIndex: 48895 entries, 0 to 48894\n",
      "Data columns (total 16 columns):\n",
      " #   Column                          Non-Null Count  Dtype  \n",
      "---  ------                          --------------  -----  \n",
      " 0   id                              48895 non-null  int64  \n",
      " 1   name                            48879 non-null  object \n",
      " 2   host_id                         48895 non-null  int64  \n",
      " 3   host_name                       48874 non-null  object \n",
      " 4   neighbourhood_group             48895 non-null  object \n",
      " 5   neighbourhood                   48895 non-null  object \n",
      " 6   latitude                        48895 non-null  float64\n",
      " 7   longitude                       48895 non-null  float64\n",
      " 8   room_type                       48895 non-null  object \n",
      " 9   price                           48895 non-null  int64  \n",
      " 10  minimum_nights                  48895 non-null  int64  \n",
      " 11  number_of_reviews               48895 non-null  int64  \n",
      " 12  last_review                     38843 non-null  object \n",
      " 13  reviews_per_month               38843 non-null  float64\n",
      " 14  calculated_host_listings_count  48895 non-null  int64  \n",
      " 15  availability_365                48895 non-null  int64  \n",
      "dtypes: float64(3), int64(7), object(6)\n",
      "memory usage: 6.0+ MB\n"
     ]
    }
   ],
   "source": [
    "df.info()"
   ]
  },
  {
   "cell_type": "code",
   "execution_count": 4,
   "metadata": {},
   "outputs": [
    {
     "data": {
      "text/plain": [
       "id                                  int64\n",
       "name                               object\n",
       "host_id                             int64\n",
       "host_name                          object\n",
       "neighbourhood_group                object\n",
       "neighbourhood                      object\n",
       "latitude                          float64\n",
       "longitude                         float64\n",
       "room_type                          object\n",
       "price                               int64\n",
       "minimum_nights                      int64\n",
       "number_of_reviews                   int64\n",
       "last_review                        object\n",
       "reviews_per_month                 float64\n",
       "calculated_host_listings_count      int64\n",
       "availability_365                    int64\n",
       "dtype: object"
      ]
     },
     "execution_count": 4,
     "metadata": {},
     "output_type": "execute_result"
    }
   ],
   "source": [
    "# Checking if the attributes types are correct and usefull\n",
    "df.dtypes"
   ]
  },
  {
   "cell_type": "code",
   "execution_count": 5,
   "metadata": {},
   "outputs": [
    {
     "data": {
      "text/plain": [
       "id                                    0\n",
       "name                                 16\n",
       "host_id                               0\n",
       "host_name                            21\n",
       "neighbourhood_group                   0\n",
       "neighbourhood                         0\n",
       "latitude                              0\n",
       "longitude                             0\n",
       "room_type                             0\n",
       "price                                 0\n",
       "minimum_nights                        0\n",
       "number_of_reviews                     0\n",
       "last_review                       10052\n",
       "reviews_per_month                 10052\n",
       "calculated_host_listings_count        0\n",
       "availability_365                      0\n",
       "dtype: int64"
      ]
     },
     "execution_count": 5,
     "metadata": {},
     "output_type": "execute_result"
    }
   ],
   "source": [
    "# Check if values contains NaN\n",
    "df.isnull().sum()\n",
    "\n",
    "# As you can see, there are 10052 NaN values"
   ]
  },
  {
   "cell_type": "code",
   "execution_count": 6,
   "metadata": {},
   "outputs": [],
   "source": [
    "# Reviews_per_month might contain \"NaN\" and we can't use that and therefore its replaced with a 0.\n",
    "df.fillna( { 'reviews_per_month':0 }, inplace = True )"
   ]
  },
  {
   "cell_type": "code",
   "execution_count": 7,
   "metadata": {},
   "outputs": [
    {
     "name": "stdout",
     "output_type": "stream",
     "text": [
      "<class 'pandas.core.frame.DataFrame'>\n",
      "RangeIndex: 48895 entries, 0 to 48894\n",
      "Data columns (total 10 columns):\n",
      " #   Column                          Non-Null Count  Dtype  \n",
      "---  ------                          --------------  -----  \n",
      " 0   id                              48895 non-null  int64  \n",
      " 1   neighbourhood_group             48895 non-null  object \n",
      " 2   neighbourhood                   48895 non-null  object \n",
      " 3   room_type                       48895 non-null  object \n",
      " 4   price                           48895 non-null  int64  \n",
      " 5   minimum_nights                  48895 non-null  int64  \n",
      " 6   number_of_reviews               48895 non-null  int64  \n",
      " 7   reviews_per_month               48895 non-null  float64\n",
      " 8   calculated_host_listings_count  48895 non-null  int64  \n",
      " 9   availability_365                48895 non-null  int64  \n",
      "dtypes: float64(1), int64(6), object(3)\n",
      "memory usage: 3.7+ MB\n"
     ]
    }
   ],
   "source": [
    "\"\"\"\n",
    "Unnecessary columns:\n",
    "host_id is not needed since we have the name.\n",
    "Latitude and longtitude is not necessary due to the fact we already have neighbourgood_group.\n",
    "last_review does not affect prices\n",
    "name does not affect the prices\n",
    "host_name does not affect the prices\n",
    "\"\"\"\n",
    "df.drop( ['host_id', 'name', 'host_name', 'latitude', 'longitude', 'last_review'], axis = 1, inplace = True )\n",
    "\n",
    "# Checking if they're dropped\n",
    "df.info()\n",
    "\n",
    "# We can see we have 48.895 rows and 12 columns left"
   ]
  },
  {
   "cell_type": "code",
   "execution_count": 8,
   "metadata": {},
   "outputs": [
    {
     "data": {
      "text/html": [
       "<div>\n",
       "<style scoped>\n",
       "    .dataframe tbody tr th:only-of-type {\n",
       "        vertical-align: middle;\n",
       "    }\n",
       "\n",
       "    .dataframe tbody tr th {\n",
       "        vertical-align: top;\n",
       "    }\n",
       "\n",
       "    .dataframe thead th {\n",
       "        text-align: right;\n",
       "    }\n",
       "</style>\n",
       "<table border=\"1\" class=\"dataframe\">\n",
       "  <thead>\n",
       "    <tr style=\"text-align: right;\">\n",
       "      <th></th>\n",
       "      <th>id</th>\n",
       "      <th>neighbourhood_group</th>\n",
       "      <th>neighbourhood</th>\n",
       "      <th>room_type</th>\n",
       "      <th>price</th>\n",
       "      <th>minimum_nights</th>\n",
       "      <th>number_of_reviews</th>\n",
       "      <th>reviews_per_month</th>\n",
       "      <th>calculated_host_listings_count</th>\n",
       "      <th>availability_365</th>\n",
       "    </tr>\n",
       "  </thead>\n",
       "  <tbody>\n",
       "    <tr>\n",
       "      <th>496</th>\n",
       "      <td>174966</td>\n",
       "      <td>Manhattan</td>\n",
       "      <td>Upper West Side</td>\n",
       "      <td>Entire home/apt</td>\n",
       "      <td>2000</td>\n",
       "      <td>30</td>\n",
       "      <td>30</td>\n",
       "      <td>0.33</td>\n",
       "      <td>11</td>\n",
       "      <td>0</td>\n",
       "    </tr>\n",
       "    <tr>\n",
       "      <th>762</th>\n",
       "      <td>273190</td>\n",
       "      <td>Manhattan</td>\n",
       "      <td>West Village</td>\n",
       "      <td>Entire home/apt</td>\n",
       "      <td>1300</td>\n",
       "      <td>5</td>\n",
       "      <td>28</td>\n",
       "      <td>0.31</td>\n",
       "      <td>4</td>\n",
       "      <td>297</td>\n",
       "    </tr>\n",
       "    <tr>\n",
       "      <th>946</th>\n",
       "      <td>363673</td>\n",
       "      <td>Manhattan</td>\n",
       "      <td>Upper West Side</td>\n",
       "      <td>Private room</td>\n",
       "      <td>3000</td>\n",
       "      <td>7</td>\n",
       "      <td>0</td>\n",
       "      <td>0.00</td>\n",
       "      <td>1</td>\n",
       "      <td>365</td>\n",
       "    </tr>\n",
       "    <tr>\n",
       "      <th>1105</th>\n",
       "      <td>468613</td>\n",
       "      <td>Manhattan</td>\n",
       "      <td>Lower East Side</td>\n",
       "      <td>Private room</td>\n",
       "      <td>1300</td>\n",
       "      <td>1</td>\n",
       "      <td>0</td>\n",
       "      <td>0.00</td>\n",
       "      <td>1</td>\n",
       "      <td>0</td>\n",
       "    </tr>\n",
       "    <tr>\n",
       "      <th>1480</th>\n",
       "      <td>664047</td>\n",
       "      <td>Manhattan</td>\n",
       "      <td>Upper West Side</td>\n",
       "      <td>Entire home/apt</td>\n",
       "      <td>2000</td>\n",
       "      <td>30</td>\n",
       "      <td>59</td>\n",
       "      <td>0.71</td>\n",
       "      <td>11</td>\n",
       "      <td>364</td>\n",
       "    </tr>\n",
       "    <tr>\n",
       "      <th>...</th>\n",
       "      <td>...</td>\n",
       "      <td>...</td>\n",
       "      <td>...</td>\n",
       "      <td>...</td>\n",
       "      <td>...</td>\n",
       "      <td>...</td>\n",
       "      <td>...</td>\n",
       "      <td>...</td>\n",
       "      <td>...</td>\n",
       "      <td>...</td>\n",
       "    </tr>\n",
       "    <tr>\n",
       "      <th>48080</th>\n",
       "      <td>36074198</td>\n",
       "      <td>Manhattan</td>\n",
       "      <td>SoHo</td>\n",
       "      <td>Entire home/apt</td>\n",
       "      <td>1308</td>\n",
       "      <td>2</td>\n",
       "      <td>0</td>\n",
       "      <td>0.00</td>\n",
       "      <td>1</td>\n",
       "      <td>179</td>\n",
       "    </tr>\n",
       "    <tr>\n",
       "      <th>48304</th>\n",
       "      <td>36189195</td>\n",
       "      <td>Manhattan</td>\n",
       "      <td>Hell's Kitchen</td>\n",
       "      <td>Entire home/apt</td>\n",
       "      <td>2999</td>\n",
       "      <td>30</td>\n",
       "      <td>0</td>\n",
       "      <td>0.00</td>\n",
       "      <td>1</td>\n",
       "      <td>222</td>\n",
       "    </tr>\n",
       "    <tr>\n",
       "      <th>48305</th>\n",
       "      <td>36189257</td>\n",
       "      <td>Manhattan</td>\n",
       "      <td>Upper East Side</td>\n",
       "      <td>Entire home/apt</td>\n",
       "      <td>1999</td>\n",
       "      <td>30</td>\n",
       "      <td>0</td>\n",
       "      <td>0.00</td>\n",
       "      <td>1</td>\n",
       "      <td>270</td>\n",
       "    </tr>\n",
       "    <tr>\n",
       "      <th>48523</th>\n",
       "      <td>36308562</td>\n",
       "      <td>Brooklyn</td>\n",
       "      <td>Bedford-Stuyvesant</td>\n",
       "      <td>Entire home/apt</td>\n",
       "      <td>1369</td>\n",
       "      <td>1</td>\n",
       "      <td>0</td>\n",
       "      <td>0.00</td>\n",
       "      <td>1</td>\n",
       "      <td>349</td>\n",
       "    </tr>\n",
       "    <tr>\n",
       "      <th>48535</th>\n",
       "      <td>36311055</td>\n",
       "      <td>Brooklyn</td>\n",
       "      <td>Bedford-Stuyvesant</td>\n",
       "      <td>Entire home/apt</td>\n",
       "      <td>1749</td>\n",
       "      <td>1</td>\n",
       "      <td>0</td>\n",
       "      <td>0.00</td>\n",
       "      <td>1</td>\n",
       "      <td>303</td>\n",
       "    </tr>\n",
       "  </tbody>\n",
       "</table>\n",
       "<p>239 rows × 10 columns</p>\n",
       "</div>"
      ],
      "text/plain": [
       "             id neighbourhood_group       neighbourhood        room_type  \\\n",
       "496      174966           Manhattan     Upper West Side  Entire home/apt   \n",
       "762      273190           Manhattan        West Village  Entire home/apt   \n",
       "946      363673           Manhattan     Upper West Side     Private room   \n",
       "1105     468613           Manhattan     Lower East Side     Private room   \n",
       "1480     664047           Manhattan     Upper West Side  Entire home/apt   \n",
       "...         ...                 ...                 ...              ...   \n",
       "48080  36074198           Manhattan                SoHo  Entire home/apt   \n",
       "48304  36189195           Manhattan      Hell's Kitchen  Entire home/apt   \n",
       "48305  36189257           Manhattan     Upper East Side  Entire home/apt   \n",
       "48523  36308562            Brooklyn  Bedford-Stuyvesant  Entire home/apt   \n",
       "48535  36311055            Brooklyn  Bedford-Stuyvesant  Entire home/apt   \n",
       "\n",
       "       price  minimum_nights  number_of_reviews  reviews_per_month  \\\n",
       "496     2000              30                 30               0.33   \n",
       "762     1300               5                 28               0.31   \n",
       "946     3000               7                  0               0.00   \n",
       "1105    1300               1                  0               0.00   \n",
       "1480    2000              30                 59               0.71   \n",
       "...      ...             ...                ...                ...   \n",
       "48080   1308               2                  0               0.00   \n",
       "48304   2999              30                  0               0.00   \n",
       "48305   1999              30                  0               0.00   \n",
       "48523   1369               1                  0               0.00   \n",
       "48535   1749               1                  0               0.00   \n",
       "\n",
       "       calculated_host_listings_count  availability_365  \n",
       "496                                11                 0  \n",
       "762                                 4               297  \n",
       "946                                 1               365  \n",
       "1105                                1                 0  \n",
       "1480                               11               364  \n",
       "...                               ...               ...  \n",
       "48080                               1               179  \n",
       "48304                               1               222  \n",
       "48305                               1               270  \n",
       "48523                               1               349  \n",
       "48535                               1               303  \n",
       "\n",
       "[239 rows x 10 columns]"
      ]
     },
     "execution_count": 8,
     "metadata": {},
     "output_type": "execute_result"
    }
   ],
   "source": [
    "# Checks how many rows where the price is above 1000\n",
    "df[df[\"price\"] > 1000]"
   ]
  },
  {
   "cell_type": "code",
   "execution_count": null,
   "metadata": {},
   "outputs": [],
   "source": []
  },
  {
   "cell_type": "code",
   "execution_count": 9,
   "metadata": {},
   "outputs": [
    {
     "data": {
      "text/html": [
       "<div>\n",
       "<style scoped>\n",
       "    .dataframe tbody tr th:only-of-type {\n",
       "        vertical-align: middle;\n",
       "    }\n",
       "\n",
       "    .dataframe tbody tr th {\n",
       "        vertical-align: top;\n",
       "    }\n",
       "\n",
       "    .dataframe thead th {\n",
       "        text-align: right;\n",
       "    }\n",
       "</style>\n",
       "<table border=\"1\" class=\"dataframe\">\n",
       "  <thead>\n",
       "    <tr style=\"text-align: right;\">\n",
       "      <th></th>\n",
       "      <th>id</th>\n",
       "      <th>neighbourhood_group</th>\n",
       "      <th>neighbourhood</th>\n",
       "      <th>room_type</th>\n",
       "      <th>price</th>\n",
       "      <th>minimum_nights</th>\n",
       "      <th>number_of_reviews</th>\n",
       "      <th>reviews_per_month</th>\n",
       "      <th>calculated_host_listings_count</th>\n",
       "      <th>availability_365</th>\n",
       "    </tr>\n",
       "  </thead>\n",
       "  <tbody>\n",
       "    <tr>\n",
       "      <th>85</th>\n",
       "      <td>19601</td>\n",
       "      <td>Brooklyn</td>\n",
       "      <td>Brooklyn Heights</td>\n",
       "      <td>Entire home/apt</td>\n",
       "      <td>800</td>\n",
       "      <td>1</td>\n",
       "      <td>25</td>\n",
       "      <td>0.24</td>\n",
       "      <td>1</td>\n",
       "      <td>7</td>\n",
       "    </tr>\n",
       "    <tr>\n",
       "      <th>299</th>\n",
       "      <td>68974</td>\n",
       "      <td>Manhattan</td>\n",
       "      <td>Little Italy</td>\n",
       "      <td>Entire home/apt</td>\n",
       "      <td>575</td>\n",
       "      <td>2</td>\n",
       "      <td>191</td>\n",
       "      <td>1.88</td>\n",
       "      <td>1</td>\n",
       "      <td>298</td>\n",
       "    </tr>\n",
       "    <tr>\n",
       "      <th>345</th>\n",
       "      <td>89427</td>\n",
       "      <td>Brooklyn</td>\n",
       "      <td>Clinton Hill</td>\n",
       "      <td>Entire home/apt</td>\n",
       "      <td>650</td>\n",
       "      <td>5</td>\n",
       "      <td>0</td>\n",
       "      <td>0.00</td>\n",
       "      <td>3</td>\n",
       "      <td>365</td>\n",
       "    </tr>\n",
       "    <tr>\n",
       "      <th>365</th>\n",
       "      <td>103311</td>\n",
       "      <td>Brooklyn</td>\n",
       "      <td>Greenpoint</td>\n",
       "      <td>Private room</td>\n",
       "      <td>599</td>\n",
       "      <td>3</td>\n",
       "      <td>9</td>\n",
       "      <td>0.09</td>\n",
       "      <td>28</td>\n",
       "      <td>60</td>\n",
       "    </tr>\n",
       "    <tr>\n",
       "      <th>496</th>\n",
       "      <td>174966</td>\n",
       "      <td>Manhattan</td>\n",
       "      <td>Upper West Side</td>\n",
       "      <td>Entire home/apt</td>\n",
       "      <td>2000</td>\n",
       "      <td>30</td>\n",
       "      <td>30</td>\n",
       "      <td>0.33</td>\n",
       "      <td>11</td>\n",
       "      <td>0</td>\n",
       "    </tr>\n",
       "    <tr>\n",
       "      <th>...</th>\n",
       "      <td>...</td>\n",
       "      <td>...</td>\n",
       "      <td>...</td>\n",
       "      <td>...</td>\n",
       "      <td>...</td>\n",
       "      <td>...</td>\n",
       "      <td>...</td>\n",
       "      <td>...</td>\n",
       "      <td>...</td>\n",
       "      <td>...</td>\n",
       "    </tr>\n",
       "    <tr>\n",
       "      <th>48535</th>\n",
       "      <td>36311055</td>\n",
       "      <td>Brooklyn</td>\n",
       "      <td>Bedford-Stuyvesant</td>\n",
       "      <td>Entire home/apt</td>\n",
       "      <td>1749</td>\n",
       "      <td>1</td>\n",
       "      <td>0</td>\n",
       "      <td>0.00</td>\n",
       "      <td>1</td>\n",
       "      <td>303</td>\n",
       "    </tr>\n",
       "    <tr>\n",
       "      <th>48697</th>\n",
       "      <td>36388720</td>\n",
       "      <td>Manhattan</td>\n",
       "      <td>Upper West Side</td>\n",
       "      <td>Entire home/apt</td>\n",
       "      <td>750</td>\n",
       "      <td>4</td>\n",
       "      <td>0</td>\n",
       "      <td>0.00</td>\n",
       "      <td>1</td>\n",
       "      <td>174</td>\n",
       "    </tr>\n",
       "    <tr>\n",
       "      <th>48740</th>\n",
       "      <td>36413632</td>\n",
       "      <td>Brooklyn</td>\n",
       "      <td>Brooklyn Heights</td>\n",
       "      <td>Entire home/apt</td>\n",
       "      <td>550</td>\n",
       "      <td>3</td>\n",
       "      <td>1</td>\n",
       "      <td>1.00</td>\n",
       "      <td>1</td>\n",
       "      <td>230</td>\n",
       "    </tr>\n",
       "    <tr>\n",
       "      <th>48757</th>\n",
       "      <td>36419574</td>\n",
       "      <td>Manhattan</td>\n",
       "      <td>Tribeca</td>\n",
       "      <td>Entire home/apt</td>\n",
       "      <td>700</td>\n",
       "      <td>3</td>\n",
       "      <td>0</td>\n",
       "      <td>0.00</td>\n",
       "      <td>1</td>\n",
       "      <td>37</td>\n",
       "    </tr>\n",
       "    <tr>\n",
       "      <th>48839</th>\n",
       "      <td>36452721</td>\n",
       "      <td>Brooklyn</td>\n",
       "      <td>Sheepshead Bay</td>\n",
       "      <td>Private room</td>\n",
       "      <td>800</td>\n",
       "      <td>1</td>\n",
       "      <td>0</td>\n",
       "      <td>0.00</td>\n",
       "      <td>1</td>\n",
       "      <td>23</td>\n",
       "    </tr>\n",
       "  </tbody>\n",
       "</table>\n",
       "<p>1044 rows × 10 columns</p>\n",
       "</div>"
      ],
      "text/plain": [
       "             id neighbourhood_group       neighbourhood        room_type  \\\n",
       "85        19601            Brooklyn    Brooklyn Heights  Entire home/apt   \n",
       "299       68974           Manhattan        Little Italy  Entire home/apt   \n",
       "345       89427            Brooklyn        Clinton Hill  Entire home/apt   \n",
       "365      103311            Brooklyn          Greenpoint     Private room   \n",
       "496      174966           Manhattan     Upper West Side  Entire home/apt   \n",
       "...         ...                 ...                 ...              ...   \n",
       "48535  36311055            Brooklyn  Bedford-Stuyvesant  Entire home/apt   \n",
       "48697  36388720           Manhattan     Upper West Side  Entire home/apt   \n",
       "48740  36413632            Brooklyn    Brooklyn Heights  Entire home/apt   \n",
       "48757  36419574           Manhattan             Tribeca  Entire home/apt   \n",
       "48839  36452721            Brooklyn      Sheepshead Bay     Private room   \n",
       "\n",
       "       price  minimum_nights  number_of_reviews  reviews_per_month  \\\n",
       "85       800               1                 25               0.24   \n",
       "299      575               2                191               1.88   \n",
       "345      650               5                  0               0.00   \n",
       "365      599               3                  9               0.09   \n",
       "496     2000              30                 30               0.33   \n",
       "...      ...             ...                ...                ...   \n",
       "48535   1749               1                  0               0.00   \n",
       "48697    750               4                  0               0.00   \n",
       "48740    550               3                  1               1.00   \n",
       "48757    700               3                  0               0.00   \n",
       "48839    800               1                  0               0.00   \n",
       "\n",
       "       calculated_host_listings_count  availability_365  \n",
       "85                                  1                 7  \n",
       "299                                 1               298  \n",
       "345                                 3               365  \n",
       "365                                28                60  \n",
       "496                                11                 0  \n",
       "...                               ...               ...  \n",
       "48535                               1               303  \n",
       "48697                               1               174  \n",
       "48740                               1               230  \n",
       "48757                               1                37  \n",
       "48839                               1                23  \n",
       "\n",
       "[1044 rows x 10 columns]"
      ]
     },
     "execution_count": 9,
     "metadata": {},
     "output_type": "execute_result"
    }
   ],
   "source": [
    "# Checks how many rows where the price is above 500\n",
    "df[df[\"price\"] > 500]"
   ]
  },
  {
   "cell_type": "code",
   "execution_count": 10,
   "metadata": {},
   "outputs": [
    {
     "data": {
      "text/html": [
       "<div>\n",
       "<style scoped>\n",
       "    .dataframe tbody tr th:only-of-type {\n",
       "        vertical-align: middle;\n",
       "    }\n",
       "\n",
       "    .dataframe tbody tr th {\n",
       "        vertical-align: top;\n",
       "    }\n",
       "\n",
       "    .dataframe thead th {\n",
       "        text-align: right;\n",
       "    }\n",
       "</style>\n",
       "<table border=\"1\" class=\"dataframe\">\n",
       "  <thead>\n",
       "    <tr style=\"text-align: right;\">\n",
       "      <th></th>\n",
       "      <th>id</th>\n",
       "      <th>neighbourhood_group</th>\n",
       "      <th>neighbourhood</th>\n",
       "      <th>room_type</th>\n",
       "      <th>price</th>\n",
       "      <th>minimum_nights</th>\n",
       "      <th>number_of_reviews</th>\n",
       "      <th>reviews_per_month</th>\n",
       "      <th>calculated_host_listings_count</th>\n",
       "      <th>availability_365</th>\n",
       "    </tr>\n",
       "  </thead>\n",
       "  <tbody>\n",
       "    <tr>\n",
       "      <th>61</th>\n",
       "      <td>15396</td>\n",
       "      <td>Manhattan</td>\n",
       "      <td>Chelsea</td>\n",
       "      <td>Entire home/apt</td>\n",
       "      <td>375</td>\n",
       "      <td>180</td>\n",
       "      <td>5</td>\n",
       "      <td>0.12</td>\n",
       "      <td>1</td>\n",
       "      <td>180</td>\n",
       "    </tr>\n",
       "    <tr>\n",
       "      <th>85</th>\n",
       "      <td>19601</td>\n",
       "      <td>Brooklyn</td>\n",
       "      <td>Brooklyn Heights</td>\n",
       "      <td>Entire home/apt</td>\n",
       "      <td>800</td>\n",
       "      <td>1</td>\n",
       "      <td>25</td>\n",
       "      <td>0.24</td>\n",
       "      <td>1</td>\n",
       "      <td>7</td>\n",
       "    </tr>\n",
       "    <tr>\n",
       "      <th>103</th>\n",
       "      <td>23686</td>\n",
       "      <td>Manhattan</td>\n",
       "      <td>West Village</td>\n",
       "      <td>Entire home/apt</td>\n",
       "      <td>500</td>\n",
       "      <td>4</td>\n",
       "      <td>46</td>\n",
       "      <td>0.55</td>\n",
       "      <td>2</td>\n",
       "      <td>243</td>\n",
       "    </tr>\n",
       "    <tr>\n",
       "      <th>114</th>\n",
       "      <td>26933</td>\n",
       "      <td>Manhattan</td>\n",
       "      <td>East Village</td>\n",
       "      <td>Entire home/apt</td>\n",
       "      <td>350</td>\n",
       "      <td>2</td>\n",
       "      <td>7</td>\n",
       "      <td>0.06</td>\n",
       "      <td>4</td>\n",
       "      <td>298</td>\n",
       "    </tr>\n",
       "    <tr>\n",
       "      <th>116</th>\n",
       "      <td>26969</td>\n",
       "      <td>Brooklyn</td>\n",
       "      <td>Williamsburg</td>\n",
       "      <td>Entire home/apt</td>\n",
       "      <td>325</td>\n",
       "      <td>3</td>\n",
       "      <td>324</td>\n",
       "      <td>3.01</td>\n",
       "      <td>1</td>\n",
       "      <td>107</td>\n",
       "    </tr>\n",
       "    <tr>\n",
       "      <th>...</th>\n",
       "      <td>...</td>\n",
       "      <td>...</td>\n",
       "      <td>...</td>\n",
       "      <td>...</td>\n",
       "      <td>...</td>\n",
       "      <td>...</td>\n",
       "      <td>...</td>\n",
       "      <td>...</td>\n",
       "      <td>...</td>\n",
       "      <td>...</td>\n",
       "    </tr>\n",
       "    <tr>\n",
       "      <th>48758</th>\n",
       "      <td>36420289</td>\n",
       "      <td>Queens</td>\n",
       "      <td>Long Island City</td>\n",
       "      <td>Entire home/apt</td>\n",
       "      <td>350</td>\n",
       "      <td>2</td>\n",
       "      <td>0</td>\n",
       "      <td>0.00</td>\n",
       "      <td>1</td>\n",
       "      <td>364</td>\n",
       "    </tr>\n",
       "    <tr>\n",
       "      <th>48833</th>\n",
       "      <td>36450896</td>\n",
       "      <td>Manhattan</td>\n",
       "      <td>Financial District</td>\n",
       "      <td>Entire home/apt</td>\n",
       "      <td>475</td>\n",
       "      <td>2</td>\n",
       "      <td>0</td>\n",
       "      <td>0.00</td>\n",
       "      <td>1</td>\n",
       "      <td>64</td>\n",
       "    </tr>\n",
       "    <tr>\n",
       "      <th>48839</th>\n",
       "      <td>36452721</td>\n",
       "      <td>Brooklyn</td>\n",
       "      <td>Sheepshead Bay</td>\n",
       "      <td>Private room</td>\n",
       "      <td>800</td>\n",
       "      <td>1</td>\n",
       "      <td>0</td>\n",
       "      <td>0.00</td>\n",
       "      <td>1</td>\n",
       "      <td>23</td>\n",
       "    </tr>\n",
       "    <tr>\n",
       "      <th>48842</th>\n",
       "      <td>36453160</td>\n",
       "      <td>Manhattan</td>\n",
       "      <td>Chelsea</td>\n",
       "      <td>Entire home/apt</td>\n",
       "      <td>350</td>\n",
       "      <td>1</td>\n",
       "      <td>0</td>\n",
       "      <td>0.00</td>\n",
       "      <td>1</td>\n",
       "      <td>9</td>\n",
       "    </tr>\n",
       "    <tr>\n",
       "      <th>48856</th>\n",
       "      <td>36457700</td>\n",
       "      <td>Brooklyn</td>\n",
       "      <td>Bedford-Stuyvesant</td>\n",
       "      <td>Entire home/apt</td>\n",
       "      <td>345</td>\n",
       "      <td>4</td>\n",
       "      <td>0</td>\n",
       "      <td>0.00</td>\n",
       "      <td>3</td>\n",
       "      <td>354</td>\n",
       "    </tr>\n",
       "  </tbody>\n",
       "</table>\n",
       "<p>3357 rows × 10 columns</p>\n",
       "</div>"
      ],
      "text/plain": [
       "             id neighbourhood_group       neighbourhood        room_type  \\\n",
       "61        15396           Manhattan             Chelsea  Entire home/apt   \n",
       "85        19601            Brooklyn    Brooklyn Heights  Entire home/apt   \n",
       "103       23686           Manhattan        West Village  Entire home/apt   \n",
       "114       26933           Manhattan        East Village  Entire home/apt   \n",
       "116       26969            Brooklyn        Williamsburg  Entire home/apt   \n",
       "...         ...                 ...                 ...              ...   \n",
       "48758  36420289              Queens    Long Island City  Entire home/apt   \n",
       "48833  36450896           Manhattan  Financial District  Entire home/apt   \n",
       "48839  36452721            Brooklyn      Sheepshead Bay     Private room   \n",
       "48842  36453160           Manhattan             Chelsea  Entire home/apt   \n",
       "48856  36457700            Brooklyn  Bedford-Stuyvesant  Entire home/apt   \n",
       "\n",
       "       price  minimum_nights  number_of_reviews  reviews_per_month  \\\n",
       "61       375             180                  5               0.12   \n",
       "85       800               1                 25               0.24   \n",
       "103      500               4                 46               0.55   \n",
       "114      350               2                  7               0.06   \n",
       "116      325               3                324               3.01   \n",
       "...      ...             ...                ...                ...   \n",
       "48758    350               2                  0               0.00   \n",
       "48833    475               2                  0               0.00   \n",
       "48839    800               1                  0               0.00   \n",
       "48842    350               1                  0               0.00   \n",
       "48856    345               4                  0               0.00   \n",
       "\n",
       "       calculated_host_listings_count  availability_365  \n",
       "61                                  1               180  \n",
       "85                                  1                 7  \n",
       "103                                 2               243  \n",
       "114                                 4               298  \n",
       "116                                 1               107  \n",
       "...                               ...               ...  \n",
       "48758                               1               364  \n",
       "48833                               1                64  \n",
       "48839                               1                23  \n",
       "48842                               1                 9  \n",
       "48856                               3               354  \n",
       "\n",
       "[3357 rows x 10 columns]"
      ]
     },
     "execution_count": 10,
     "metadata": {},
     "output_type": "execute_result"
    }
   ],
   "source": [
    "# Checks how many rows where the price is above 300\n",
    "df[df[\"price\"] > 300]"
   ]
  },
  {
   "cell_type": "code",
   "execution_count": 11,
   "metadata": {},
   "outputs": [
    {
     "data": {
      "text/html": [
       "<div>\n",
       "<style scoped>\n",
       "    .dataframe tbody tr th:only-of-type {\n",
       "        vertical-align: middle;\n",
       "    }\n",
       "\n",
       "    .dataframe tbody tr th {\n",
       "        vertical-align: top;\n",
       "    }\n",
       "\n",
       "    .dataframe thead th {\n",
       "        text-align: right;\n",
       "    }\n",
       "</style>\n",
       "<table border=\"1\" class=\"dataframe\">\n",
       "  <thead>\n",
       "    <tr style=\"text-align: right;\">\n",
       "      <th></th>\n",
       "      <th>id</th>\n",
       "      <th>neighbourhood_group</th>\n",
       "      <th>neighbourhood</th>\n",
       "      <th>room_type</th>\n",
       "      <th>price</th>\n",
       "      <th>minimum_nights</th>\n",
       "      <th>number_of_reviews</th>\n",
       "      <th>reviews_per_month</th>\n",
       "      <th>calculated_host_listings_count</th>\n",
       "      <th>availability_365</th>\n",
       "    </tr>\n",
       "  </thead>\n",
       "  <tbody>\n",
       "    <tr>\n",
       "      <th>1</th>\n",
       "      <td>2595</td>\n",
       "      <td>Manhattan</td>\n",
       "      <td>Midtown</td>\n",
       "      <td>Entire home/apt</td>\n",
       "      <td>225</td>\n",
       "      <td>1</td>\n",
       "      <td>45</td>\n",
       "      <td>0.38</td>\n",
       "      <td>2</td>\n",
       "      <td>355</td>\n",
       "    </tr>\n",
       "    <tr>\n",
       "      <th>16</th>\n",
       "      <td>7097</td>\n",
       "      <td>Brooklyn</td>\n",
       "      <td>Fort Greene</td>\n",
       "      <td>Entire home/apt</td>\n",
       "      <td>215</td>\n",
       "      <td>2</td>\n",
       "      <td>198</td>\n",
       "      <td>1.72</td>\n",
       "      <td>1</td>\n",
       "      <td>321</td>\n",
       "    </tr>\n",
       "    <tr>\n",
       "      <th>20</th>\n",
       "      <td>7801</td>\n",
       "      <td>Brooklyn</td>\n",
       "      <td>Williamsburg</td>\n",
       "      <td>Entire home/apt</td>\n",
       "      <td>299</td>\n",
       "      <td>3</td>\n",
       "      <td>9</td>\n",
       "      <td>0.07</td>\n",
       "      <td>1</td>\n",
       "      <td>0</td>\n",
       "    </tr>\n",
       "    <tr>\n",
       "      <th>52</th>\n",
       "      <td>14290</td>\n",
       "      <td>Brooklyn</td>\n",
       "      <td>Williamsburg</td>\n",
       "      <td>Entire home/apt</td>\n",
       "      <td>228</td>\n",
       "      <td>3</td>\n",
       "      <td>82</td>\n",
       "      <td>0.70</td>\n",
       "      <td>1</td>\n",
       "      <td>140</td>\n",
       "    </tr>\n",
       "    <tr>\n",
       "      <th>61</th>\n",
       "      <td>15396</td>\n",
       "      <td>Manhattan</td>\n",
       "      <td>Chelsea</td>\n",
       "      <td>Entire home/apt</td>\n",
       "      <td>375</td>\n",
       "      <td>180</td>\n",
       "      <td>5</td>\n",
       "      <td>0.12</td>\n",
       "      <td>1</td>\n",
       "      <td>180</td>\n",
       "    </tr>\n",
       "    <tr>\n",
       "      <th>...</th>\n",
       "      <td>...</td>\n",
       "      <td>...</td>\n",
       "      <td>...</td>\n",
       "      <td>...</td>\n",
       "      <td>...</td>\n",
       "      <td>...</td>\n",
       "      <td>...</td>\n",
       "      <td>...</td>\n",
       "      <td>...</td>\n",
       "      <td>...</td>\n",
       "    </tr>\n",
       "    <tr>\n",
       "      <th>48842</th>\n",
       "      <td>36453160</td>\n",
       "      <td>Manhattan</td>\n",
       "      <td>Chelsea</td>\n",
       "      <td>Entire home/apt</td>\n",
       "      <td>350</td>\n",
       "      <td>1</td>\n",
       "      <td>0</td>\n",
       "      <td>0.00</td>\n",
       "      <td>1</td>\n",
       "      <td>9</td>\n",
       "    </tr>\n",
       "    <tr>\n",
       "      <th>48844</th>\n",
       "      <td>36453952</td>\n",
       "      <td>Manhattan</td>\n",
       "      <td>West Village</td>\n",
       "      <td>Entire home/apt</td>\n",
       "      <td>205</td>\n",
       "      <td>1</td>\n",
       "      <td>0</td>\n",
       "      <td>0.00</td>\n",
       "      <td>1</td>\n",
       "      <td>365</td>\n",
       "    </tr>\n",
       "    <tr>\n",
       "      <th>48853</th>\n",
       "      <td>36455917</td>\n",
       "      <td>Manhattan</td>\n",
       "      <td>West Village</td>\n",
       "      <td>Private room</td>\n",
       "      <td>202</td>\n",
       "      <td>2</td>\n",
       "      <td>0</td>\n",
       "      <td>0.00</td>\n",
       "      <td>1</td>\n",
       "      <td>84</td>\n",
       "    </tr>\n",
       "    <tr>\n",
       "      <th>48856</th>\n",
       "      <td>36457700</td>\n",
       "      <td>Brooklyn</td>\n",
       "      <td>Bedford-Stuyvesant</td>\n",
       "      <td>Entire home/apt</td>\n",
       "      <td>345</td>\n",
       "      <td>4</td>\n",
       "      <td>0</td>\n",
       "      <td>0.00</td>\n",
       "      <td>3</td>\n",
       "      <td>354</td>\n",
       "    </tr>\n",
       "    <tr>\n",
       "      <th>48872</th>\n",
       "      <td>36476675</td>\n",
       "      <td>Manhattan</td>\n",
       "      <td>Hell's Kitchen</td>\n",
       "      <td>Entire home/apt</td>\n",
       "      <td>260</td>\n",
       "      <td>3</td>\n",
       "      <td>0</td>\n",
       "      <td>0.00</td>\n",
       "      <td>1</td>\n",
       "      <td>9</td>\n",
       "    </tr>\n",
       "  </tbody>\n",
       "</table>\n",
       "<p>8384 rows × 10 columns</p>\n",
       "</div>"
      ],
      "text/plain": [
       "             id neighbourhood_group       neighbourhood        room_type  \\\n",
       "1          2595           Manhattan             Midtown  Entire home/apt   \n",
       "16         7097            Brooklyn         Fort Greene  Entire home/apt   \n",
       "20         7801            Brooklyn        Williamsburg  Entire home/apt   \n",
       "52        14290            Brooklyn        Williamsburg  Entire home/apt   \n",
       "61        15396           Manhattan             Chelsea  Entire home/apt   \n",
       "...         ...                 ...                 ...              ...   \n",
       "48842  36453160           Manhattan             Chelsea  Entire home/apt   \n",
       "48844  36453952           Manhattan        West Village  Entire home/apt   \n",
       "48853  36455917           Manhattan        West Village     Private room   \n",
       "48856  36457700            Brooklyn  Bedford-Stuyvesant  Entire home/apt   \n",
       "48872  36476675           Manhattan      Hell's Kitchen  Entire home/apt   \n",
       "\n",
       "       price  minimum_nights  number_of_reviews  reviews_per_month  \\\n",
       "1        225               1                 45               0.38   \n",
       "16       215               2                198               1.72   \n",
       "20       299               3                  9               0.07   \n",
       "52       228               3                 82               0.70   \n",
       "61       375             180                  5               0.12   \n",
       "...      ...             ...                ...                ...   \n",
       "48842    350               1                  0               0.00   \n",
       "48844    205               1                  0               0.00   \n",
       "48853    202               2                  0               0.00   \n",
       "48856    345               4                  0               0.00   \n",
       "48872    260               3                  0               0.00   \n",
       "\n",
       "       calculated_host_listings_count  availability_365  \n",
       "1                                   2               355  \n",
       "16                                  1               321  \n",
       "20                                  1                 0  \n",
       "52                                  1               140  \n",
       "61                                  1               180  \n",
       "...                               ...               ...  \n",
       "48842                               1                 9  \n",
       "48844                               1               365  \n",
       "48853                               1                84  \n",
       "48856                               3               354  \n",
       "48872                               1                 9  \n",
       "\n",
       "[8384 rows x 10 columns]"
      ]
     },
     "execution_count": 11,
     "metadata": {},
     "output_type": "execute_result"
    }
   ],
   "source": [
    "# Checks how many rows where the price is above 200\n",
    "df[df[\"price\"] > 200]"
   ]
  },
  {
   "cell_type": "code",
   "execution_count": 12,
   "metadata": {},
   "outputs": [],
   "source": [
    "# Only use rows if the price is below 300\n",
    "df = df[df[\"price\"] < 300]"
   ]
  },
  {
   "cell_type": "code",
   "execution_count": 13,
   "metadata": {},
   "outputs": [
    {
     "data": {
      "text/plain": [
       "count    44977.000000\n",
       "mean         6.904996\n",
       "std         19.891975\n",
       "min          1.000000\n",
       "25%          1.000000\n",
       "50%          2.000000\n",
       "75%          5.000000\n",
       "max       1250.000000\n",
       "Name: minimum_nights, dtype: float64"
      ]
     },
     "execution_count": 13,
     "metadata": {},
     "output_type": "execute_result"
    }
   ],
   "source": [
    "df['minimum_nights'].describe()"
   ]
  },
  {
   "cell_type": "code",
   "execution_count": 14,
   "metadata": {},
   "outputs": [
    {
     "data": {
      "text/plain": [
       "6        45\n",
       "14       90\n",
       "36       60\n",
       "45       29\n",
       "55       30\n",
       "         ..\n",
       "48801    30\n",
       "48808    30\n",
       "48810    30\n",
       "48843    29\n",
       "48871    29\n",
       "Name: minimum_nights, Length: 4547, dtype: int64"
      ]
     },
     "execution_count": 14,
     "metadata": {},
     "output_type": "execute_result"
    }
   ],
   "source": [
    "# It is likely to assume that 1250 minimum_nights will influence our model\n",
    "df[\"minimum_nights\"][df[\"minimum_nights\"] > 25]"
   ]
  },
  {
   "cell_type": "code",
   "execution_count": 15,
   "metadata": {},
   "outputs": [
    {
     "data": {
      "text/plain": [
       "6         45\n",
       "14        90\n",
       "36        60\n",
       "81        31\n",
       "106       90\n",
       "        ... \n",
       "48325     60\n",
       "48368     60\n",
       "48446    365\n",
       "48752     32\n",
       "48784     45\n",
       "Name: minimum_nights, Length: 671, dtype: int64"
      ]
     },
     "execution_count": 15,
     "metadata": {},
     "output_type": "execute_result"
    }
   ],
   "source": [
    "df[\"minimum_nights\"][df[\"minimum_nights\"] > 30]"
   ]
  },
  {
   "cell_type": "code",
   "execution_count": 16,
   "metadata": {},
   "outputs": [
    {
     "data": {
      "text/plain": [
       "6         45\n",
       "14        90\n",
       "36        60\n",
       "106       90\n",
       "155       45\n",
       "        ... \n",
       "48312     90\n",
       "48325     60\n",
       "48368     60\n",
       "48446    365\n",
       "48784     45\n",
       "Name: minimum_nights, Length: 466, dtype: int64"
      ]
     },
     "execution_count": 16,
     "metadata": {},
     "output_type": "execute_result"
    }
   ],
   "source": [
    "df[\"minimum_nights\"][df[\"minimum_nights\"] > 35]"
   ]
  },
  {
   "cell_type": "code",
   "execution_count": 17,
   "metadata": {},
   "outputs": [],
   "source": [
    "# We're now setting every value in minimum_nights that is above 35 to 35.\n",
    "df.loc[(df.minimum_nights > 35),\"minimum_nights\"] = 35"
   ]
  },
  {
   "cell_type": "code",
   "execution_count": 18,
   "metadata": {},
   "outputs": [
    {
     "data": {
      "text/plain": [
       "Williamsburg          3653\n",
       "Bedford-Stuyvesant    3616\n",
       "Harlem                2556\n",
       "Bushwick              2430\n",
       "Upper West Side       1721\n",
       "                      ... \n",
       "Howland Hook             2\n",
       "New Dorp                 1\n",
       "Willowbrook              1\n",
       "Richmondtown             1\n",
       "Rossville                1\n",
       "Name: neighbourhood, Length: 219, dtype: int64"
      ]
     },
     "execution_count": 18,
     "metadata": {},
     "output_type": "execute_result"
    }
   ],
   "source": [
    "# Checking unique neighbourhoods\n",
    "df['neighbourhood'].value_counts()"
   ]
  },
  {
   "cell_type": "code",
   "execution_count": 19,
   "metadata": {},
   "outputs": [
    {
     "data": {
      "text/plain": [
       "(44977, 10)"
      ]
     },
     "execution_count": 19,
     "metadata": {},
     "output_type": "execute_result"
    }
   ],
   "source": [
    "df.shape"
   ]
  },
  {
   "cell_type": "markdown",
   "metadata": {},
   "source": [
    "## Heatmap"
   ]
  },
  {
   "cell_type": "code",
   "execution_count": 20,
   "metadata": {},
   "outputs": [],
   "source": [
    "# Creating dummies - converts the strings within the DataFrame to integers that can be used for our models\n",
    "df_test = df.drop( ['neighbourhood'], axis = 1 )\n",
    "#df.drop([\"neighbourhood\"], axis=1, inplace=True)\n",
    "df      = pd.get_dummies( df )"
   ]
  },
  {
   "cell_type": "code",
   "execution_count": null,
   "metadata": {},
   "outputs": [],
   "source": []
  },
  {
   "cell_type": "code",
   "execution_count": 21,
   "metadata": {},
   "outputs": [
    {
     "data": {
      "text/plain": [
       "<matplotlib.axes._subplots.AxesSubplot at 0x11b5243a0>"
      ]
     },
     "execution_count": 21,
     "metadata": {},
     "output_type": "execute_result"
    },
    {
     "data": {
      "image/png": "[encoded data removed]",
      "text/plain": [
       "<Figure size 1440x720 with 2 Axes>"
      ]
     },
     "metadata": {
      "needs_background": "light"
     },
     "output_type": "display_data"
    }
   ],
   "source": [
    "# Constructing a heatmap with our dummy values.\n",
    "# We have left our neighbourhood on purpose due to the fact it contains way too many data points\n",
    "fig, ax = plt.subplots( figsize = (20, 10) )\n",
    "sns.color_palette( \"husl\", 8 )\n",
    "sns.heatmap( df_test.corr(), annot = True, linewidths = .5, ax = ax )"
   ]
  },
  {
   "cell_type": "code",
   "execution_count": null,
   "metadata": {},
   "outputs": [],
   "source": []
  },
  {
   "cell_type": "code",
   "execution_count": null,
   "metadata": {},
   "outputs": [],
   "source": []
  },
  {
   "cell_type": "code",
   "execution_count": 22,
   "metadata": {},
   "outputs": [],
   "source": [
    "# The price column is our target\n",
    "X = df.loc[:, df.columns != 'price']\n",
    "y = df['price']\n",
    "\n",
    "# Split the wave dataset into a training and a test set\n",
    "X_train, X_test, y_train, y_test = train_test_split( X, y, random_state = 0 )"
   ]
  },
  {
   "cell_type": "code",
   "execution_count": 23,
   "metadata": {},
   "outputs": [
    {
     "data": {
      "text/plain": [
       "(44977, 234)"
      ]
     },
     "execution_count": 23,
     "metadata": {},
     "output_type": "execute_result"
    }
   ],
   "source": [
    "df.shape"
   ]
  },
  {
   "cell_type": "markdown",
   "metadata": {},
   "source": [
    "## Machine learning models"
   ]
  },
  {
   "cell_type": "markdown",
   "metadata": {},
   "source": [
    "### KNeighborsRegressor"
   ]
  },
  {
   "cell_type": "code",
   "execution_count": 24,
   "metadata": {},
   "outputs": [
    {
     "name": "stdout",
     "output_type": "stream",
     "text": [
      "Training set score: 0.245\n",
      "Test set score: -0.129\n"
     ]
    }
   ],
   "source": [
    "knreg = KNeighborsRegressor().fit( X_train, y_train )\n",
    "print( \"Training set score: {:.3f}\".format( knreg.score( X_train, y_train ) ) )\n",
    "print( \"Test set score: {:.3f}\".format( knreg.score( X_test, y_test ) ) )"
   ]
  },
  {
   "cell_type": "markdown",
   "metadata": {},
   "source": [
    "### KNeighborsRegressor (tuned)"
   ]
  },
  {
   "cell_type": "code",
   "execution_count": 25,
   "metadata": {},
   "outputs": [
    {
     "name": "stdout",
     "output_type": "stream",
     "text": [
      "Neighbours 95, weight used uniform, test accuracy: 0.014315471906992894, train accuracy: 0.030016635276351344 \n",
      "\n",
      "Neighbours 95, weight used distance, test accuracy: 0.014315471906992894, train accuracy: 0.030016635276351344 \n",
      "\n",
      "Neighbours 85, weight used uniform, test accuracy: 0.014010767742318908, train accuracy: 0.031219331037975917 \n",
      "\n",
      "Neighbours 85, weight used distance, test accuracy: 0.014010767742318908, train accuracy: 0.031219331037975917 \n",
      "\n",
      "Neighbours 90, weight used uniform, test accuracy: 0.013959309007694265, train accuracy: 0.030262169140524486 \n",
      "\n",
      "Neighbours 90, weight used distance, test accuracy: 0.013959309007694265, train accuracy: 0.030262169140524486 \n",
      "\n"
     ]
    }
   ],
   "source": [
    "neighbours      = [85, 90, 95]\n",
    "distances       = ['uniform', 'distance']\n",
    "accuracy_output = []\n",
    "training_scores = []\n",
    "test_scores     = []\n",
    "\n",
    "for neighbour in neighbours: \n",
    "    for distance in distances:\n",
    "        knreg = KNeighborsRegressor( n_neighbors = neighbour ) \n",
    "        knreg.fit( X_train, y_train )\n",
    "        training = knreg.score( X_train, y_train )\n",
    "        tests    = knreg.score( X_test, y_test )\n",
    "        accuracy_output.append( (neighbour, distance, tests, training) )\n",
    "\n",
    "for idx, key in enumerate( sorted ( accuracy_output, reverse = True, key = lambda e:e[2] ) ):\n",
    "    print(f\"Neighbours {key[0]}, weight used {key[1]}, test accuracy: {key[2]}, train accuracy: {key[3]} \\n\")\n",
    "    \n",
    "    if idx == 0:\n",
    "        training_scores.append( key[3] )\n",
    "        test_scores.append( key[2] )"
   ]
  },
  {
   "cell_type": "markdown",
   "metadata": {},
   "source": [
    "### LinearRegression"
   ]
  },
  {
   "cell_type": "code",
   "execution_count": 26,
   "metadata": {},
   "outputs": [
    {
     "name": "stdout",
     "output_type": "stream",
     "text": [
      "Training set score: 0.55\n",
      "Test set score: 0.55\n"
     ]
    }
   ],
   "source": [
    "lr = LinearRegression().fit( X_train, y_train )\n",
    "training_score = lr.score( X_train, y_train )\n",
    "test_score = lr.score( X_test, y_test )\n",
    "\n",
    "print(\"Training set score: {:.2f}\".format(lr.score(X_train, y_train)))\n",
    "print(\"Test set score: {:.2f}\".format(lr.score(X_test, y_test)))\n",
    "# Might be underfitted, or data just doesn't allow for better accuracy\n",
    "\n",
    "training_scores.append( training_score )\n",
    "test_scores.append( test_score )"
   ]
  },
  {
   "cell_type": "markdown",
   "metadata": {},
   "source": [
    "### Ridge"
   ]
  },
  {
   "cell_type": "code",
   "execution_count": 27,
   "metadata": {},
   "outputs": [
    {
     "name": "stdout",
     "output_type": "stream",
     "text": [
      "Training set score: 0.553\n",
      "Test set score: 0.547\n"
     ]
    },
    {
     "name": "stderr",
     "output_type": "stream",
     "text": [
      "/Users/magnussmed/opt/anaconda3/lib/python3.8/site-packages/sklearn/linear_model/_ridge.py:147: LinAlgWarning: Ill-conditioned matrix (rcond=2.4173e-19): result may not be accurate.\n",
      "  return linalg.solve(A, Xy, sym_pos=True,\n"
     ]
    }
   ],
   "source": [
    "ridge = Ridge().fit( X_train, y_train )\n",
    "print( \"Training set score: {:.3f}\".format( ridge.score( X_train, y_train ) ) )\n",
    "print( \"Test set score: {:.3f}\".format( ridge.score( X_test, y_test ) ) )\n",
    "# Might be underfitted, or data just doesn't allow for better accuracy"
   ]
  },
  {
   "cell_type": "markdown",
   "metadata": {},
   "source": [
    "### Ridge (tuned)"
   ]
  },
  {
   "cell_type": "code",
   "execution_count": 28,
   "metadata": {},
   "outputs": [
    {
     "name": "stderr",
     "output_type": "stream",
     "text": [
      "/Users/magnussmed/opt/anaconda3/lib/python3.8/site-packages/sklearn/linear_model/_ridge.py:147: LinAlgWarning: Ill-conditioned matrix (rcond=2.4173e-19): result may not be accurate.\n",
      "  return linalg.solve(A, Xy, sym_pos=True,\n",
      "/Users/magnussmed/opt/anaconda3/lib/python3.8/site-packages/sklearn/linear_model/_ridge.py:147: LinAlgWarning: Ill-conditioned matrix (rcond=1.19978e-18): result may not be accurate.\n",
      "  return linalg.solve(A, Xy, sym_pos=True,\n",
      "/Users/magnussmed/opt/anaconda3/lib/python3.8/site-packages/sklearn/linear_model/_ridge.py:147: LinAlgWarning: Ill-conditioned matrix (rcond=1.43767e-18): result may not be accurate.\n",
      "  return linalg.solve(A, Xy, sym_pos=True,\n",
      "/Users/magnussmed/opt/anaconda3/lib/python3.8/site-packages/sklearn/linear_model/_ridge.py:147: LinAlgWarning: Ill-conditioned matrix (rcond=1.67505e-18): result may not be accurate.\n",
      "  return linalg.solve(A, Xy, sym_pos=True,\n",
      "/Users/magnussmed/opt/anaconda3/lib/python3.8/site-packages/sklearn/linear_model/_ridge.py:147: LinAlgWarning: Ill-conditioned matrix (rcond=1.91197e-18): result may not be accurate.\n",
      "  return linalg.solve(A, Xy, sym_pos=True,\n",
      "/Users/magnussmed/opt/anaconda3/lib/python3.8/site-packages/sklearn/linear_model/_ridge.py:147: LinAlgWarning: Ill-conditioned matrix (rcond=2.14847e-18): result may not be accurate.\n",
      "  return linalg.solve(A, Xy, sym_pos=True,\n",
      "/Users/magnussmed/opt/anaconda3/lib/python3.8/site-packages/sklearn/linear_model/_ridge.py:147: LinAlgWarning: Ill-conditioned matrix (rcond=2.38458e-18): result may not be accurate.\n",
      "  return linalg.solve(A, Xy, sym_pos=True,\n",
      "/Users/magnussmed/opt/anaconda3/lib/python3.8/site-packages/sklearn/linear_model/_ridge.py:147: LinAlgWarning: Ill-conditioned matrix (rcond=2.62035e-18): result may not be accurate.\n",
      "  return linalg.solve(A, Xy, sym_pos=True,\n"
     ]
    },
    {
     "name": "stdout",
     "output_type": "stream",
     "text": [
      "alpha: 7, test accuracy: 0.5468893855151471, train accuracy: 0.5523268972921498 \n",
      "\n",
      "alpha: 8, test accuracy: 0.5468892814172233, train accuracy: 0.5521984027424987 \n",
      "\n",
      "alpha: 9, test accuracy: 0.5468832297590226, train accuracy: 0.552076128142831 \n",
      "\n",
      "alpha: 6, test accuracy: 0.5468819004286403, train accuracy: 0.5524627532797145 \n",
      "\n",
      "alpha: 10, test accuracy: 0.5468723924713347, train accuracy: 0.5519591347477766 \n",
      "\n",
      "alpha: 5, test accuracy: 0.546864404226338, train accuracy: 0.5526073153600765 \n",
      "\n",
      "alpha: 11, test accuracy: 0.5468576217006555, train accuracy: 0.5518466577429411 \n",
      "\n",
      "alpha: 12, test accuracy: 0.5468395611919903, train accuracy: 0.5517380740348872 \n",
      "\n",
      "alpha: 1, test accuracy: 0.5465601489416344, train accuracy: 0.5532787610826142 \n",
      "\n"
     ]
    },
    {
     "name": "stderr",
     "output_type": "stream",
     "text": [
      "/Users/magnussmed/opt/anaconda3/lib/python3.8/site-packages/sklearn/linear_model/_ridge.py:147: LinAlgWarning: Ill-conditioned matrix (rcond=2.85579e-18): result may not be accurate.\n",
      "  return linalg.solve(A, Xy, sym_pos=True,\n"
     ]
    }
   ],
   "source": [
    "\"\"\"\n",
    "Different inputs tried:\n",
    "fit_int = [True, False]\n",
    "normalize = [True, False]\n",
    "alpha = [0.1, 1, 10, 100]\n",
    "alpha = [1, 5, 10, 15]\n",
    "\"\"\"\n",
    "alpha           = [1, 5, 6, 7, 8, 9, 10, 11, 12]\n",
    "accuracy_output = []\n",
    "\n",
    "for a in alpha:\n",
    "    ridge = Ridge( alpha = a ) \n",
    "    ridge.fit( X_train, y_train )\n",
    "    training = ridge.score( X_train, y_train )\n",
    "    tests    = ridge.score( X_test, y_test )\n",
    "    accuracy_output.append( (a, tests, training) )\n",
    "\n",
    "for idx, key in enumerate( sorted ( accuracy_output, reverse = True, key = lambda e:e[1] ) ):\n",
    "    print(f\"alpha: {key[0]}, test accuracy: {key[1]}, train accuracy: {key[2]} \\n\")\n",
    "    \n",
    "    if idx == 0:\n",
    "        training_scores.append( key[2] )\n",
    "        test_scores.append( key[1] )"
   ]
  },
  {
   "cell_type": "markdown",
   "metadata": {},
   "source": [
    "### Lasso"
   ]
  },
  {
   "cell_type": "code",
   "execution_count": 29,
   "metadata": {},
   "outputs": [
    {
     "name": "stdout",
     "output_type": "stream",
     "text": [
      "Training set score: 0.483\n",
      "Test set score: 0.483\n"
     ]
    }
   ],
   "source": [
    "lasso = Lasso().fit( X_train, y_train )\n",
    "print( \"Training set score: {:.3f}\".format( lasso.score( X_train, y_train ) ) )\n",
    "print( \"Test set score: {:.3f}\".format( lasso.score( X_test, y_test ) ) )\n",
    "# print(\"Number of features used:\", np.sum(lasso.coef_ != 0))\n",
    "# Might be underfitted"
   ]
  },
  {
   "cell_type": "markdown",
   "metadata": {},
   "source": [
    "### Lasso (tuned)"
   ]
  },
  {
   "cell_type": "code",
   "execution_count": null,
   "metadata": {},
   "outputs": [],
   "source": [
    "\"\"\"\n",
    "Different inputs tried:\n",
    "alpha = [0.0001, 0.001, 0.01, 0.1, 1.0]\n",
    "max_iter = [1000, 2000, 3000, 4000]\n",
    "\"\"\"\n",
    "alpha           = [0.0001, 0.001]\n",
    "accuracy_output = []\n",
    "\n",
    "for a in alpha:\n",
    "    lasso = Lasso( alpha = a, max_iter = 50000 ) \n",
    "    lasso.fit( X_train, y_train )\n",
    "    training = lasso.score( X_train, y_train )\n",
    "    tests    = lasso.score( X_test, y_test )\n",
    "    accuracy_output.append( (a, tests, training) )\n",
    "\n",
    "for idx, key in enumerate( sorted ( accuracy_output, reverse = True, key = lambda e:e[1] ) ):\n",
    "    print(f\"alpha: {key[0]}, test accuracy: {key[1]}, train accuracy: {key[2]} \\n\")\n",
    "    \n",
    "    if idx == 0:\n",
    "        training_scores.append( key[2] )\n",
    "        test_scores.append( key[1] )"
   ]
  },
  {
   "cell_type": "markdown",
   "metadata": {},
   "source": [
    "### DecisionTreeRegressor"
   ]
  },
  {
   "cell_type": "code",
   "execution_count": null,
   "metadata": {},
   "outputs": [],
   "source": [
    "tree = DecisionTreeRegressor().fit( X_train, y_train )\n",
    "print( \"Training set score: {:.3f}\".format( tree.score( X_train, y_train ) ) )\n",
    "print( \"Test set score: {:.3f}\".format( tree.score( X_test, y_test ) ) )\n",
    "# Overfitted"
   ]
  },
  {
   "cell_type": "markdown",
   "metadata": {},
   "source": [
    "### DecisionTreeRegressor (tuned)"
   ]
  },
  {
   "cell_type": "code",
   "execution_count": null,
   "metadata": {},
   "outputs": [],
   "source": [
    "max_depth         = [9, 10, 11, 12, 13, 14]\n",
    "min_samples_split = [10, 200, 225, 250, 275, 300]\n",
    "max_features      = ['auto', 'sqrt', 'log2']\n",
    "accuracy_output   = []\n",
    "\n",
    "for md in max_depth:\n",
    "    for mss in min_samples_split:\n",
    "        for mx in max_features:        \n",
    "            tree = DecisionTreeRegressor( max_depth = md, min_samples_split = mss ) \n",
    "            tree.fit( X_train, y_train )\n",
    "            training = tree.score( X_train, y_train )\n",
    "            tests    = tree.score( X_test, y_test )\n",
    "            accuracy_output.append( (md, mss, mx, tests, training) )\n",
    "\n",
    "for idx, key in enumerate( sorted ( accuracy_output, reverse = True, key = lambda e:e[3] ) ):\n",
    "    print(f\"max depth: {key[0]}, min samples split: {key[1]}, max features {key[2]}, test accuracy: {key[3]}, train accuracy: {key[4]} \\n\")\n",
    "    \n",
    "    if idx == 0:\n",
    "        training_scores.append( key[4] )\n",
    "        test_scores.append( key[3] )"
   ]
  },
  {
   "cell_type": "markdown",
   "metadata": {},
   "source": [
    "### RandomForestRegressor"
   ]
  },
  {
   "cell_type": "code",
   "execution_count": null,
   "metadata": {},
   "outputs": [],
   "source": [
    "rfr = RandomForestRegressor().fit( X_train, y_train )\n",
    "print( \"Training set score: {:.3f}\".format( rfr.score( X_train, y_train ) ) )\n",
    "print( \"Test set score: {:.3f}\".format( rfr.score( X_test, y_test ) ) )\n",
    "# Might be overfitted"
   ]
  },
  {
   "cell_type": "markdown",
   "metadata": {},
   "source": [
    "### RandomForestRegressor (tuning tests)"
   ]
  },
  {
   "cell_type": "code",
   "execution_count": null,
   "metadata": {},
   "outputs": [],
   "source": [
    "\"\"\"\n",
    "max_depth         = [10, 50, 100]\n",
    "n_estimators      = [300, 400, 500]\n",
    "min_samples_split = [10, 200, 300]\n",
    "max_features      = ['auto', 'sqrt', 'log2']\n",
    "accuracy_output   = []\n",
    "\n",
    "for md in max_depth:\n",
    "    for ne in n_estimators:\n",
    "        for mss in min_samples_split:\n",
    "            for mx in max_features:        \n",
    "                rfr = RandomForestRegressor( max_depth = md, n_estimators = ne, min_samples_split = mss ) \n",
    "                rfr.fit( X_train, y_train )\n",
    "                training = rfr.score( X_train, y_train )\n",
    "                tests = rfr.score( X_test, y_test )\n",
    "                accuracy_output.append( (md, ne, mss, mx, tests, training) )\n",
    "for key in sorted ( accuracy_output, reverse = True, key = lambda e:e[4] ):\n",
    "    print(f\"max depth: {key[0]}, n_estimators: {key[1]} min samples split: {key[2]}, max features {key[3]}, test accuracy: {key[4]}, train accuracy: {key[5]} \\n\")\n",
    "\"\"\""
   ]
  },
  {
   "cell_type": "markdown",
   "metadata": {},
   "source": [
    "### RandomForestRegressor (tuned)"
   ]
  },
  {
   "cell_type": "code",
   "execution_count": null,
   "metadata": {},
   "outputs": [],
   "source": [
    "# Optimal tuning found through manual trial and error\n",
    "rfr = RandomForestRegressor( max_depth = 100, n_estimators = 550, min_samples_split = 50 ) \n",
    "rfr.fit( X_train, y_train )\n",
    "\n",
    "train_score = rfr.score( X_train, y_train )\n",
    "test_score  = rfr.score( X_test, y_test )\n",
    "\n",
    "print( \"Training set score: {:.3f}\".format( train_score ) )\n",
    "print( \"Test set score: {:.3f}\".format( test_score ) )\n",
    "\n",
    "training_scores.append( train_score )\n",
    "test_scores.append( test_score )"
   ]
  },
  {
   "cell_type": "markdown",
   "metadata": {},
   "source": [
    "### RandomForestRegressor Feature Importances"
   ]
  },
  {
   "cell_type": "code",
   "execution_count": null,
   "metadata": {},
   "outputs": [],
   "source": [
    "features    = df_test.columns\n",
    "df_test.info()\n",
    "importances = rfr.feature_importances_\n",
    "indices     = np.argsort( importances )\n",
    "\n",
    "n = 10\n",
    "\n",
    "plt.subplots( figsize = (20, 20) )\n",
    "plt.title( 'Feature Importances' )\n",
    "plt.barh( range( n ), importances[indices][:n], color = 'g', align = 'center' )\n",
    "plt.yticks( range( len( indices ) ), features[indices] )\n",
    "plt.xlabel( 'Importance' )\n",
    "plt.show()"
   ]
  },
  {
   "cell_type": "code",
   "execution_count": null,
   "metadata": {},
   "outputs": [],
   "source": []
  },
  {
   "cell_type": "code",
   "execution_count": null,
   "metadata": {},
   "outputs": [],
   "source": []
  },
  {
   "cell_type": "code",
   "execution_count": null,
   "metadata": {},
   "outputs": [],
   "source": []
  },
  {
   "cell_type": "markdown",
   "metadata": {},
   "source": [
    "## Test and training results visualized"
   ]
  },
  {
   "cell_type": "code",
   "execution_count": null,
   "metadata": {},
   "outputs": [],
   "source": [
    "index     = np.arange( 6 )\n",
    "bar_width = 0.5\n",
    "\n",
    "print(test_scores)\n",
    "\n",
    "fig, ax  = plt.subplots( figsize = (15, 10) )\n",
    "training = ax.bar( index, training_scores, bar_width, label = \"Training accuracy\" )\n",
    "testing  = ax.bar( index, test_scores, bar_width, label = \"Test accuracy\")\n",
    "\n",
    "ax.set_xlabel( 'Models' )\n",
    "ax.set_ylabel( 'Accuracy' )\n",
    "ax.set_title( 'Comparing our models' )\n",
    "ax.set_xticks( index + bar_width / 2 )\n",
    "ax.set_xticklabels( [\"KNeighborsRegressor\", \"LinearRegression\", \"Ridge\", \"Lasso\", \"DecisionTreeRegressor\", \"RandomForestRegressor\"] )\n",
    "ax.legend()\n",
    "\n",
    "plt.show()"
   ]
  },
  {
   "cell_type": "code",
   "execution_count": null,
   "metadata": {},
   "outputs": [],
   "source": []
  },
  {
   "cell_type": "code",
   "execution_count": null,
   "metadata": {},
   "outputs": [],
   "source": []
  },
  {
   "cell_type": "code",
   "execution_count": null,
   "metadata": {},
   "outputs": [],
   "source": []
  }
 ],
 "metadata": {
  "kernelspec": {
   "display_name": "Python 3",
   "language": "python",
   "name": "python3"
  },
  "language_info": {
   "codemirror_mode": {
    "name": "ipython",
    "version": 3
   },
   "file_extension": ".py",
   "mimetype": "text/x-python",
   "name": "python",
   "nbconvert_exporter": "python",
   "pygments_lexer": "ipython3",
   "version": "3.8.3"
  }
 },
 "nbformat": 4,
 "nbformat_minor": 4
}
